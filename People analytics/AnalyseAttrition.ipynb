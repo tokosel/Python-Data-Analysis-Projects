{
 "cells": [
  {
   "cell_type": "markdown",
   "id": "a53f180a-2c66-4514-8920-ae7e86ba4a5d",
   "metadata": {
    "jp-MarkdownHeadingCollapsed": true
   },
   "source": [
    "# **Importation des packages utiles**"
   ]
  },
  {
   "cell_type": "code",
   "execution_count": 1,
   "id": "f582c017-e129-4011-9e78-189e3a96ac1d",
   "metadata": {},
   "outputs": [],
   "source": [
    "import numpy as np \n",
    "import pandas as pd\n",
    "import seaborn as sns\n",
    "from matplotlib import pyplot as plt"
   ]
  },
  {
   "cell_type": "markdown",
   "id": "5a62f497-5c90-45e8-92b7-047954c9e6fa",
   "metadata": {
    "jp-MarkdownHeadingCollapsed": true
   },
   "source": [
    "# **Chargement et description du DataSet**"
   ]
  },
  {
   "cell_type": "markdown",
   "id": "41f532c2-337a-4f51-8906-76b2e4824d46",
   "metadata": {
    "jp-MarkdownHeadingCollapsed": true
   },
   "source": [
    "## **Notes**"
   ]
  },
  {
   "cell_type": "markdown",
   "id": "6be9cb26-9e7b-44ab-b67f-86cc28ecd83b",
   "metadata": {},
   "source": [
    "- Ladite base de données contients **1470 employés** et **34 attributs (variables)** dont **16 qualitatives** et **18 considérées comme étant quantitative** (à vérifier).\n",
    "- Le jeu de données ne contient ni de données dupliquées (par rapport à toutes les colonnes), ni de données manquantes.\n",
    "- Deux variables (Over18 et StandardHours) sont jugées inutiles à l'analyse car n'ayant qu'une seule modalité (unique). Elles ne varient pas. "
   ]
  },
  {
   "cell_type": "markdown",
   "id": "f8d2c66f-e34a-4439-b107-0add6c40812b",
   "metadata": {
    "jp-MarkdownHeadingCollapsed": true
   },
   "source": [
    "## **Chargement**"
   ]
  },
  {
   "cell_type": "code",
   "execution_count": 2,
   "id": "f7bd5140-faee-4931-81c4-ffe8ce974b8e",
   "metadata": {},
   "outputs": [],
   "source": [
    "#chargement\n",
    "data = pd.read_excel('cas_pratique.xlsx' , sheet_name = 0)"
   ]
  },
  {
   "cell_type": "code",
   "execution_count": 3,
   "id": "d45c90bb-e768-4e2d-8256-4c6ea3babd6e",
   "metadata": {},
   "outputs": [
    {
     "data": {
      "text/html": [
       "<div>\n",
       "<style scoped>\n",
       "    .dataframe tbody tr th:only-of-type {\n",
       "        vertical-align: middle;\n",
       "    }\n",
       "\n",
       "    .dataframe tbody tr th {\n",
       "        vertical-align: top;\n",
       "    }\n",
       "\n",
       "    .dataframe thead th {\n",
       "        text-align: right;\n",
       "    }\n",
       "</style>\n",
       "<table border=\"1\" class=\"dataframe\">\n",
       "  <thead>\n",
       "    <tr style=\"text-align: right;\">\n",
       "      <th></th>\n",
       "      <th>Age</th>\n",
       "      <th>Attrition</th>\n",
       "      <th>BusinessTravel</th>\n",
       "      <th>DailyRate</th>\n",
       "      <th>Department</th>\n",
       "      <th>DistanceFromHome</th>\n",
       "      <th>Education</th>\n",
       "      <th>EducationField</th>\n",
       "      <th>EmployeeNumber</th>\n",
       "      <th>EnvironmentSatisfaction</th>\n",
       "      <th>...</th>\n",
       "      <th>RelationshipSatisfaction</th>\n",
       "      <th>StandardHours</th>\n",
       "      <th>StockOptionLevel</th>\n",
       "      <th>TotalWorkingYears</th>\n",
       "      <th>TrainingTimesLastYear</th>\n",
       "      <th>WorkLifeBalance</th>\n",
       "      <th>YearsAtCompany</th>\n",
       "      <th>YearsInCurrentRole</th>\n",
       "      <th>YearsSinceLastPromotion</th>\n",
       "      <th>YearsWithCurrManager</th>\n",
       "    </tr>\n",
       "  </thead>\n",
       "  <tbody>\n",
       "    <tr>\n",
       "      <th>0</th>\n",
       "      <td>41</td>\n",
       "      <td>Yes</td>\n",
       "      <td>Travel_Rarely</td>\n",
       "      <td>1102</td>\n",
       "      <td>Sales</td>\n",
       "      <td>1</td>\n",
       "      <td>College</td>\n",
       "      <td>Life Sciences</td>\n",
       "      <td>1</td>\n",
       "      <td>Medium</td>\n",
       "      <td>...</td>\n",
       "      <td>Low</td>\n",
       "      <td>80</td>\n",
       "      <td>0</td>\n",
       "      <td>8</td>\n",
       "      <td>0</td>\n",
       "      <td>Bad</td>\n",
       "      <td>6</td>\n",
       "      <td>4</td>\n",
       "      <td>0</td>\n",
       "      <td>5</td>\n",
       "    </tr>\n",
       "    <tr>\n",
       "      <th>1</th>\n",
       "      <td>49</td>\n",
       "      <td>No</td>\n",
       "      <td>Travel_Frequently</td>\n",
       "      <td>279</td>\n",
       "      <td>Research &amp; Development</td>\n",
       "      <td>8</td>\n",
       "      <td>Below College</td>\n",
       "      <td>Life Sciences</td>\n",
       "      <td>2</td>\n",
       "      <td>High</td>\n",
       "      <td>...</td>\n",
       "      <td>Very High</td>\n",
       "      <td>80</td>\n",
       "      <td>1</td>\n",
       "      <td>10</td>\n",
       "      <td>3</td>\n",
       "      <td>Better</td>\n",
       "      <td>10</td>\n",
       "      <td>7</td>\n",
       "      <td>1</td>\n",
       "      <td>7</td>\n",
       "    </tr>\n",
       "    <tr>\n",
       "      <th>2</th>\n",
       "      <td>37</td>\n",
       "      <td>Yes</td>\n",
       "      <td>Travel_Rarely</td>\n",
       "      <td>1373</td>\n",
       "      <td>Research &amp; Development</td>\n",
       "      <td>2</td>\n",
       "      <td>College</td>\n",
       "      <td>Other</td>\n",
       "      <td>4</td>\n",
       "      <td>Very High</td>\n",
       "      <td>...</td>\n",
       "      <td>Medium</td>\n",
       "      <td>80</td>\n",
       "      <td>0</td>\n",
       "      <td>7</td>\n",
       "      <td>3</td>\n",
       "      <td>Better</td>\n",
       "      <td>0</td>\n",
       "      <td>0</td>\n",
       "      <td>0</td>\n",
       "      <td>0</td>\n",
       "    </tr>\n",
       "    <tr>\n",
       "      <th>3</th>\n",
       "      <td>33</td>\n",
       "      <td>No</td>\n",
       "      <td>Travel_Frequently</td>\n",
       "      <td>1392</td>\n",
       "      <td>Research &amp; Development</td>\n",
       "      <td>3</td>\n",
       "      <td>Master</td>\n",
       "      <td>Life Sciences</td>\n",
       "      <td>5</td>\n",
       "      <td>Very High</td>\n",
       "      <td>...</td>\n",
       "      <td>High</td>\n",
       "      <td>80</td>\n",
       "      <td>0</td>\n",
       "      <td>8</td>\n",
       "      <td>3</td>\n",
       "      <td>Better</td>\n",
       "      <td>8</td>\n",
       "      <td>7</td>\n",
       "      <td>3</td>\n",
       "      <td>0</td>\n",
       "    </tr>\n",
       "    <tr>\n",
       "      <th>4</th>\n",
       "      <td>27</td>\n",
       "      <td>No</td>\n",
       "      <td>Travel_Rarely</td>\n",
       "      <td>591</td>\n",
       "      <td>Research &amp; Development</td>\n",
       "      <td>2</td>\n",
       "      <td>Below College</td>\n",
       "      <td>Medical</td>\n",
       "      <td>7</td>\n",
       "      <td>Low</td>\n",
       "      <td>...</td>\n",
       "      <td>Very High</td>\n",
       "      <td>80</td>\n",
       "      <td>1</td>\n",
       "      <td>6</td>\n",
       "      <td>3</td>\n",
       "      <td>Better</td>\n",
       "      <td>2</td>\n",
       "      <td>2</td>\n",
       "      <td>2</td>\n",
       "      <td>2</td>\n",
       "    </tr>\n",
       "  </tbody>\n",
       "</table>\n",
       "<p>5 rows × 34 columns</p>\n",
       "</div>"
      ],
      "text/plain": [
       "   Age Attrition     BusinessTravel  DailyRate              Department  \\\n",
       "0   41       Yes      Travel_Rarely       1102                   Sales   \n",
       "1   49        No  Travel_Frequently        279  Research & Development   \n",
       "2   37       Yes      Travel_Rarely       1373  Research & Development   \n",
       "3   33        No  Travel_Frequently       1392  Research & Development   \n",
       "4   27        No      Travel_Rarely        591  Research & Development   \n",
       "\n",
       "   DistanceFromHome      Education EducationField  EmployeeNumber  \\\n",
       "0                 1        College  Life Sciences               1   \n",
       "1                 8  Below College  Life Sciences               2   \n",
       "2                 2        College          Other               4   \n",
       "3                 3         Master  Life Sciences               5   \n",
       "4                 2  Below College        Medical               7   \n",
       "\n",
       "  EnvironmentSatisfaction  ... RelationshipSatisfaction  StandardHours  \\\n",
       "0                  Medium  ...                      Low             80   \n",
       "1                    High  ...                Very High             80   \n",
       "2               Very High  ...                   Medium             80   \n",
       "3               Very High  ...                     High             80   \n",
       "4                     Low  ...                Very High             80   \n",
       "\n",
       "  StockOptionLevel  TotalWorkingYears TrainingTimesLastYear WorkLifeBalance  \\\n",
       "0                0                  8                     0             Bad   \n",
       "1                1                 10                     3          Better   \n",
       "2                0                  7                     3          Better   \n",
       "3                0                  8                     3          Better   \n",
       "4                1                  6                     3          Better   \n",
       "\n",
       "  YearsAtCompany  YearsInCurrentRole  YearsSinceLastPromotion  \\\n",
       "0              6                   4                        0   \n",
       "1             10                   7                        1   \n",
       "2              0                   0                        0   \n",
       "3              8                   7                        3   \n",
       "4              2                   2                        2   \n",
       "\n",
       "   YearsWithCurrManager  \n",
       "0                     5  \n",
       "1                     7  \n",
       "2                     0  \n",
       "3                     0  \n",
       "4                     2  \n",
       "\n",
       "[5 rows x 34 columns]"
      ]
     },
     "execution_count": 3,
     "metadata": {},
     "output_type": "execute_result"
    }
   ],
   "source": [
    "#apperçu\n",
    "data.head()"
   ]
  },
  {
   "cell_type": "markdown",
   "id": "74f93349-0c39-425f-8d06-6cad6839247e",
   "metadata": {
    "jp-MarkdownHeadingCollapsed": true
   },
   "source": [
    "## **Description**"
   ]
  },
  {
   "cell_type": "code",
   "execution_count": 4,
   "id": "2fe2eb68-bd3d-4814-9739-8f29a4aedb36",
   "metadata": {},
   "outputs": [
    {
     "name": "stdout",
     "output_type": "stream",
     "text": [
      "<class 'pandas.core.frame.DataFrame'>\n",
      "RangeIndex: 1470 entries, 0 to 1469\n",
      "Data columns (total 34 columns):\n",
      " #   Column                    Non-Null Count  Dtype \n",
      "---  ------                    --------------  ----- \n",
      " 0   Age                       1470 non-null   int64 \n",
      " 1   Attrition                 1470 non-null   object\n",
      " 2   BusinessTravel            1470 non-null   object\n",
      " 3   DailyRate                 1470 non-null   int64 \n",
      " 4   Department                1470 non-null   object\n",
      " 5   DistanceFromHome          1470 non-null   int64 \n",
      " 6   Education                 1470 non-null   object\n",
      " 7   EducationField            1470 non-null   object\n",
      " 8   EmployeeNumber            1470 non-null   int64 \n",
      " 9   EnvironmentSatisfaction   1470 non-null   object\n",
      " 10  Gender                    1470 non-null   object\n",
      " 11  HourlyRate                1470 non-null   int64 \n",
      " 12  JobInvolvement            1470 non-null   object\n",
      " 13  JobLevel                  1470 non-null   int64 \n",
      " 14  JobRole                   1470 non-null   object\n",
      " 15  JobSatisfaction           1470 non-null   object\n",
      " 16  MaritalStatus             1470 non-null   object\n",
      " 17  MonthlyIncome             1470 non-null   int64 \n",
      " 18  MonthlyRate               1470 non-null   int64 \n",
      " 19  NumCompaniesWorked        1470 non-null   int64 \n",
      " 20  Over18                    1470 non-null   object\n",
      " 21  OverTime                  1470 non-null   object\n",
      " 22  PercentSalaryHike         1470 non-null   int64 \n",
      " 23  PerformanceRating         1470 non-null   object\n",
      " 24  RelationshipSatisfaction  1470 non-null   object\n",
      " 25  StandardHours             1470 non-null   int64 \n",
      " 26  StockOptionLevel          1470 non-null   int64 \n",
      " 27  TotalWorkingYears         1470 non-null   int64 \n",
      " 28  TrainingTimesLastYear     1470 non-null   int64 \n",
      " 29  WorkLifeBalance           1470 non-null   object\n",
      " 30  YearsAtCompany            1470 non-null   int64 \n",
      " 31  YearsInCurrentRole        1470 non-null   int64 \n",
      " 32  YearsSinceLastPromotion   1470 non-null   int64 \n",
      " 33  YearsWithCurrManager      1470 non-null   int64 \n",
      "dtypes: int64(18), object(16)\n",
      "memory usage: 390.6+ KB\n"
     ]
    }
   ],
   "source": [
    "#description \n",
    "data.info()"
   ]
  },
  {
   "cell_type": "code",
   "execution_count": 5,
   "id": "8c87f397-d748-4026-9226-2b5fff1ed60d",
   "metadata": {},
   "outputs": [
    {
     "data": {
      "text/plain": [
       "0"
      ]
     },
     "execution_count": 5,
     "metadata": {},
     "output_type": "execute_result"
    }
   ],
   "source": [
    "#Analyse des données dupliquées\n",
    "data.duplicated().sum()"
   ]
  },
  {
   "cell_type": "code",
   "execution_count": 6,
   "id": "a7172f25-c90b-43c6-b131-1cda62be5e3a",
   "metadata": {},
   "outputs": [
    {
     "data": {
      "text/plain": [
       "Age                           43\n",
       "Attrition                      2\n",
       "BusinessTravel                 3\n",
       "DailyRate                    886\n",
       "Department                     3\n",
       "DistanceFromHome              29\n",
       "Education                      5\n",
       "EducationField                 6\n",
       "EmployeeNumber              1470\n",
       "EnvironmentSatisfaction        4\n",
       "Gender                         2\n",
       "HourlyRate                    71\n",
       "JobInvolvement                 4\n",
       "JobLevel                       5\n",
       "JobRole                        9\n",
       "JobSatisfaction                4\n",
       "MaritalStatus                  3\n",
       "MonthlyIncome               1349\n",
       "MonthlyRate                 1427\n",
       "NumCompaniesWorked            10\n",
       "Over18                         1\n",
       "OverTime                       2\n",
       "PercentSalaryHike             15\n",
       "PerformanceRating              2\n",
       "RelationshipSatisfaction       4\n",
       "StandardHours                  1\n",
       "StockOptionLevel               4\n",
       "TotalWorkingYears             40\n",
       "TrainingTimesLastYear          7\n",
       "WorkLifeBalance                4\n",
       "YearsAtCompany                37\n",
       "YearsInCurrentRole            19\n",
       "YearsSinceLastPromotion       16\n",
       "YearsWithCurrManager          18\n",
       "dtype: int64"
      ]
     },
     "execution_count": 6,
     "metadata": {},
     "output_type": "execute_result"
    }
   ],
   "source": [
    "#Analyse des valeurs/modalités uniques des variables\n",
    "data.nunique()"
   ]
  },
  {
   "cell_type": "code",
   "execution_count": 7,
   "id": "c9ae40ed-f9be-4aaa-9783-3153f91b5d20",
   "metadata": {},
   "outputs": [
    {
     "data": {
      "text/plain": [
       "Age                         0\n",
       "Attrition                   0\n",
       "BusinessTravel              0\n",
       "DailyRate                   0\n",
       "Department                  0\n",
       "DistanceFromHome            0\n",
       "Education                   0\n",
       "EducationField              0\n",
       "EmployeeNumber              0\n",
       "EnvironmentSatisfaction     0\n",
       "Gender                      0\n",
       "HourlyRate                  0\n",
       "JobInvolvement              0\n",
       "JobLevel                    0\n",
       "JobRole                     0\n",
       "JobSatisfaction             0\n",
       "MaritalStatus               0\n",
       "MonthlyIncome               0\n",
       "MonthlyRate                 0\n",
       "NumCompaniesWorked          0\n",
       "Over18                      0\n",
       "OverTime                    0\n",
       "PercentSalaryHike           0\n",
       "PerformanceRating           0\n",
       "RelationshipSatisfaction    0\n",
       "StandardHours               0\n",
       "StockOptionLevel            0\n",
       "TotalWorkingYears           0\n",
       "TrainingTimesLastYear       0\n",
       "WorkLifeBalance             0\n",
       "YearsAtCompany              0\n",
       "YearsInCurrentRole          0\n",
       "YearsSinceLastPromotion     0\n",
       "YearsWithCurrManager        0\n",
       "dtype: int64"
      ]
     },
     "execution_count": 7,
     "metadata": {},
     "output_type": "execute_result"
    }
   ],
   "source": [
    "#Analyse des données manquantes\n",
    "data.isnull().sum()"
   ]
  },
  {
   "cell_type": "markdown",
   "id": "abcd642a-cf36-4a1f-a183-52dc2fbc8d30",
   "metadata": {
    "jp-MarkdownHeadingCollapsed": true
   },
   "source": [
    "# **DataViz & Vérification des hypothèses**"
   ]
  },
  {
   "cell_type": "markdown",
   "id": "4d10da03-2e78-4756-bbda-318cb8e55d56",
   "metadata": {
    "jp-MarkdownHeadingCollapsed": true
   },
   "source": [
    "## **Hypothèse 1 (vérifiée)**"
   ]
  },
  {
   "cell_type": "markdown",
   "id": "ed8b355b-2702-4235-b5b2-72c4e2d42c93",
   "metadata": {},
   "source": [
    "**Hypothèse** : Les employés célibataires présentent la plus grande \n",
    "proportion de départ,\n",
    " par rapport à leurs collègues marié ou \n",
    "divorcés."
   ]
  },
  {
   "cell_type": "code",
   "execution_count": 8,
   "id": "1d3e0ca2-3743-454b-9969-9059e2f50eb3",
   "metadata": {},
   "outputs": [
    {
     "data": {
      "text/plain": [
       "Index(['Age', 'Attrition', 'BusinessTravel', 'DailyRate', 'Department',\n",
       "       'DistanceFromHome', 'Education', 'EducationField', 'EmployeeNumber',\n",
       "       'EnvironmentSatisfaction', 'Gender', 'HourlyRate', 'JobInvolvement',\n",
       "       'JobLevel', 'JobRole', 'JobSatisfaction', 'MaritalStatus',\n",
       "       'MonthlyIncome', 'MonthlyRate', 'NumCompaniesWorked', 'Over18',\n",
       "       'OverTime', 'PercentSalaryHike', 'PerformanceRating',\n",
       "       'RelationshipSatisfaction', 'StandardHours', 'StockOptionLevel',\n",
       "       'TotalWorkingYears', 'TrainingTimesLastYear', 'WorkLifeBalance',\n",
       "       'YearsAtCompany', 'YearsInCurrentRole', 'YearsSinceLastPromotion',\n",
       "       'YearsWithCurrManager'],\n",
       "      dtype='object')"
      ]
     },
     "execution_count": 8,
     "metadata": {},
     "output_type": "execute_result"
    }
   ],
   "source": [
    "#Liste des noms des variables \n",
    "data.columns"
   ]
  },
  {
   "cell_type": "code",
   "execution_count": 9,
   "id": "9b42a831-88d6-425e-b27f-88cebb8e0674",
   "metadata": {},
   "outputs": [
    {
     "data": {
      "text/html": [
       "<div>\n",
       "<style scoped>\n",
       "    .dataframe tbody tr th:only-of-type {\n",
       "        vertical-align: middle;\n",
       "    }\n",
       "\n",
       "    .dataframe tbody tr th {\n",
       "        vertical-align: top;\n",
       "    }\n",
       "\n",
       "    .dataframe thead th {\n",
       "        text-align: right;\n",
       "    }\n",
       "</style>\n",
       "<table border=\"1\" class=\"dataframe\">\n",
       "  <thead>\n",
       "    <tr style=\"text-align: right;\">\n",
       "      <th>Attrition</th>\n",
       "      <th>No</th>\n",
       "      <th>Yes</th>\n",
       "      <th>Total</th>\n",
       "    </tr>\n",
       "    <tr>\n",
       "      <th>MaritalStatus</th>\n",
       "      <th></th>\n",
       "      <th></th>\n",
       "      <th></th>\n",
       "    </tr>\n",
       "  </thead>\n",
       "  <tbody>\n",
       "    <tr>\n",
       "      <th>Divorced</th>\n",
       "      <td>0.238443</td>\n",
       "      <td>0.139241</td>\n",
       "      <td>0.222449</td>\n",
       "    </tr>\n",
       "    <tr>\n",
       "      <th>Married</th>\n",
       "      <td>0.477697</td>\n",
       "      <td>0.354430</td>\n",
       "      <td>0.457823</td>\n",
       "    </tr>\n",
       "    <tr>\n",
       "      <th>Single</th>\n",
       "      <td>0.283861</td>\n",
       "      <td>0.506329</td>\n",
       "      <td>0.319728</td>\n",
       "    </tr>\n",
       "  </tbody>\n",
       "</table>\n",
       "</div>"
      ],
      "text/plain": [
       "Attrition            No       Yes     Total\n",
       "MaritalStatus                              \n",
       "Divorced       0.238443  0.139241  0.222449\n",
       "Married        0.477697  0.354430  0.457823\n",
       "Single         0.283861  0.506329  0.319728"
      ]
     },
     "execution_count": 9,
     "metadata": {},
     "output_type": "execute_result"
    }
   ],
   "source": [
    "#tableau de contingence entre les variables Attrition et MaritalStatus\n",
    "pd.crosstab(index = data.MaritalStatus , columns = data.Attrition , \n",
    "            margins = True , margins_name = 'Total', normalize = 'columns' )"
   ]
  },
  {
   "cell_type": "code",
   "execution_count": 10,
   "id": "38f2a167-ce71-4b76-862c-82b5d95897d6",
   "metadata": {},
   "outputs": [
    {
     "data": {
      "image/png": "[encoded data removed]",
      "text/plain": [
       "<Figure size 500x300 with 1 Axes>"
      ]
     },
     "metadata": {},
     "output_type": "display_data"
    }
   ],
   "source": [
    "#Diagramme en barre \n",
    "plt.figure(figsize = (5,3))\n",
    "sns.countplot(data = data , x = 'MaritalStatus' , hue = 'Attrition');"
   ]
  },
  {
   "cell_type": "markdown",
   "id": "8ffd661a-5dbf-4c80-8583-dc8a422f5ffa",
   "metadata": {
    "jp-MarkdownHeadingCollapsed": true
   },
   "source": [
    "## **Hypothèse 2 (vérifiée)**"
   ]
  },
  {
   "cell_type": "markdown",
   "id": "28ca9f99-ae86-4da0-b897-8cd8b31f40c4",
   "metadata": {},
   "source": [
    "**Hypothèse** : Environ 10% des employés quittent l'entreprise\n",
    "après deux années d’ancienneté."
   ]
  },
  {
   "cell_type": "code",
   "execution_count": 11,
   "id": "e1225bd5-9358-4580-974d-24a6c28aa5b3",
   "metadata": {},
   "outputs": [
    {
     "data": {
      "text/plain": [
       "Index(['Age', 'Attrition', 'BusinessTravel', 'DailyRate', 'Department',\n",
       "       'DistanceFromHome', 'Education', 'EducationField', 'EmployeeNumber',\n",
       "       'EnvironmentSatisfaction', 'Gender', 'HourlyRate', 'JobInvolvement',\n",
       "       'JobLevel', 'JobRole', 'JobSatisfaction', 'MaritalStatus',\n",
       "       'MonthlyIncome', 'MonthlyRate', 'NumCompaniesWorked', 'Over18',\n",
       "       'OverTime', 'PercentSalaryHike', 'PerformanceRating',\n",
       "       'RelationshipSatisfaction', 'StandardHours', 'StockOptionLevel',\n",
       "       'TotalWorkingYears', 'TrainingTimesLastYear', 'WorkLifeBalance',\n",
       "       'YearsAtCompany', 'YearsInCurrentRole', 'YearsSinceLastPromotion',\n",
       "       'YearsWithCurrManager'],\n",
       "      dtype='object')"
      ]
     },
     "execution_count": 11,
     "metadata": {},
     "output_type": "execute_result"
    }
   ],
   "source": [
    "#Liste des noms des variables\n",
    "data.columns"
   ]
  },
  {
   "cell_type": "code",
   "execution_count": 12,
   "id": "4667b7ab-bbee-4f9e-a359-580aae705304",
   "metadata": {},
   "outputs": [
    {
     "data": {
      "text/plain": [
       "array([ 6, 10,  0,  8,  2,  7,  1,  9,  5,  4, 25,  3, 12, 14, 22, 15, 27,\n",
       "       21, 17, 11, 13, 37, 16, 20, 40, 24, 33, 19, 36, 18, 29, 31, 32, 34,\n",
       "       26, 30, 23], dtype=int64)"
      ]
     },
     "execution_count": 12,
     "metadata": {},
     "output_type": "execute_result"
    }
   ],
   "source": [
    "#Liste de valeurs uniques par rapport à l'ancienneté\n",
    "data.YearsAtCompany.unique()"
   ]
  },
  {
   "cell_type": "code",
   "execution_count": 13,
   "id": "cce48e52-dbe9-49d7-8469-4326d6e6ced5",
   "metadata": {},
   "outputs": [
    {
     "data": {
      "text/plain": [
       "array(['+2ans', '2ans & -'], dtype=object)"
      ]
     },
     "execution_count": 13,
     "metadata": {},
     "output_type": "execute_result"
    }
   ],
   "source": [
    "#Création d'une variable Catégorie d'ancienneté (feature engineering)\n",
    "##défintion de fonction de création \n",
    "def categorize(element) :\n",
    "    if element > 2 :\n",
    "        return \"+2ans\"\n",
    "    return \"2ans & -\"\n",
    "##création de la variable\n",
    "data['Anciennete'] = data[\"YearsAtCompany\"].map(categorize)\n",
    "##valeurs unique de la variable ancienneté \n",
    "data.Anciennete.unique()"
   ]
  },
  {
   "cell_type": "code",
   "execution_count": 14,
   "id": "e58d5a4b-b695-40bd-a4e7-b1b7df74bcc2",
   "metadata": {},
   "outputs": [
    {
     "data": {
      "text/html": [
       "<div>\n",
       "<style scoped>\n",
       "    .dataframe tbody tr th:only-of-type {\n",
       "        vertical-align: middle;\n",
       "    }\n",
       "\n",
       "    .dataframe tbody tr th {\n",
       "        vertical-align: top;\n",
       "    }\n",
       "\n",
       "    .dataframe thead th {\n",
       "        text-align: right;\n",
       "    }\n",
       "</style>\n",
       "<table border=\"1\" class=\"dataframe\">\n",
       "  <thead>\n",
       "    <tr style=\"text-align: right;\">\n",
       "      <th>Attrition</th>\n",
       "      <th>No</th>\n",
       "      <th>Yes</th>\n",
       "      <th>Total</th>\n",
       "    </tr>\n",
       "    <tr>\n",
       "      <th>Anciennete</th>\n",
       "      <th></th>\n",
       "      <th></th>\n",
       "      <th></th>\n",
       "    </tr>\n",
       "  </thead>\n",
       "  <tbody>\n",
       "    <tr>\n",
       "      <th>+2ans</th>\n",
       "      <td>67.551020</td>\n",
       "      <td>9.183673</td>\n",
       "      <td>76.734694</td>\n",
       "    </tr>\n",
       "    <tr>\n",
       "      <th>2ans &amp; -</th>\n",
       "      <td>16.326531</td>\n",
       "      <td>6.938776</td>\n",
       "      <td>23.265306</td>\n",
       "    </tr>\n",
       "    <tr>\n",
       "      <th>Total</th>\n",
       "      <td>83.877551</td>\n",
       "      <td>16.122449</td>\n",
       "      <td>100.000000</td>\n",
       "    </tr>\n",
       "  </tbody>\n",
       "</table>\n",
       "</div>"
      ],
      "text/plain": [
       "Attrition          No        Yes       Total\n",
       "Anciennete                                  \n",
       "+2ans       67.551020   9.183673   76.734694\n",
       "2ans & -    16.326531   6.938776   23.265306\n",
       "Total       83.877551  16.122449  100.000000"
      ]
     },
     "execution_count": 14,
     "metadata": {},
     "output_type": "execute_result"
    }
   ],
   "source": [
    "#Tableau de contingence\n",
    "pd.crosstab(index = data.Anciennete , columns = data.Attrition , \n",
    "            margins = True , margins_name = 'Total', normalize = True )*100"
   ]
  },
  {
   "cell_type": "markdown",
   "id": "d4ae1a0d-faf2-4e18-a5cb-ec085826c3e7",
   "metadata": {
    "jp-MarkdownHeadingCollapsed": true
   },
   "source": [
    "## **Hypothèse 3 (vérifiée)**"
   ]
  },
  {
   "cell_type": "markdown",
   "id": "3889b283-b5d0-4433-b668-cfa1f3070029",
   "metadata": {},
   "source": [
    "**Hypothèse :** Les employés loyaux, bénéficiant de salaires très\n",
    "élevés et de beaucoup de responsabilités, affichent une proportion\n",
    "de départs plus faible que leurs collègues."
   ]
  },
  {
   "cell_type": "markdown",
   "id": "ff3caee4-c74c-4eeb-8db8-d2a5080612c2",
   "metadata": {},
   "source": [
    "Un employé est considéré comme loyal s'il n'a jamais travaillé dans une autre entreprise et a plus de 10 ans d'ancienneté."
   ]
  },
  {
   "cell_type": "code",
   "execution_count": 109,
   "id": "82d0edb3-9155-45b8-b64a-acd60490e4be",
   "metadata": {},
   "outputs": [
    {
     "data": {
      "text/plain": [
       "array(['Non Loyal', 'Loyal'], dtype=object)"
      ]
     },
     "execution_count": 109,
     "metadata": {},
     "output_type": "execute_result"
    }
   ],
   "source": [
    "#Création d'une variable Loyaute grace au boolean indexing\n",
    "##Creation de la variable loyaute\n",
    "data[\"Loyaute\"] = \"Non Loyal\"\n",
    "##Boolean indexing\n",
    "masque = (data['NumCompaniesWorked'] == 0) & (data['YearsAtCompany'] > 10 )\n",
    "data.loc[ masque , 'Loyaute'] = data.loc[masque , 'Loyaute'].replace(\"Non Loyal\" , 'Loyal')\n",
    "data.Loyaute.unique()"
   ]
  },
  {
   "cell_type": "markdown",
   "id": "0a95a286-4674-481e-92bf-4c2d16fc87e6",
   "metadata": {},
   "source": [
    "Un salaire est considéré comme élevé s'il atteint les 2/3 du salaire maximal."
   ]
  },
  {
   "cell_type": "code",
   "execution_count": 110,
   "id": "d19ae41e-b3ef-4e97-af1b-fedd2aa64ade",
   "metadata": {},
   "outputs": [
    {
     "data": {
      "text/plain": [
       "13332.666666666666"
      ]
     },
     "execution_count": 110,
     "metadata": {},
     "output_type": "execute_result"
    }
   ],
   "source": [
    "#calcul des 2/3 di salaire maximal\n",
    "(2*data['MonthlyIncome'].max())/3"
   ]
  },
  {
   "cell_type": "code",
   "execution_count": 111,
   "id": "b05f3d31-7793-4867-92c6-180f33c5ae33",
   "metadata": {},
   "outputs": [],
   "source": [
    "#définition d'une fonction ImportanceSalaire qui retourne \"Elevé\" si le salaire\n",
    "#est >= au 2/3 du salaire maximal (13 333) et \"Non élevé\" sinon. \n",
    "def importanceSalaire(element):\n",
    "    if element >= 13333 :\n",
    "        return 'Eleve'\n",
    "    return 'Non Eleve'"
   ]
  },
  {
   "cell_type": "code",
   "execution_count": 112,
   "id": "b44ab888-dd62-4470-82cd-1b94e05dd2c0",
   "metadata": {},
   "outputs": [
    {
     "data": {
      "text/plain": [
       "array(['Non Eleve', 'Eleve'], dtype=object)"
      ]
     },
     "execution_count": 112,
     "metadata": {},
     "output_type": "execute_result"
    }
   ],
   "source": [
    "#Feature engineering\n",
    "data[\"ImportanceSalaire\"] = data['MonthlyIncome'].map(importanceSalaire)\n",
    "#apperçu\n",
    "data.ImportanceSalaire.unique()"
   ]
  },
  {
   "cell_type": "code",
   "execution_count": 113,
   "id": "fe8f1697-7beb-4fdc-a03d-2720f1557d47",
   "metadata": {},
   "outputs": [
    {
     "data": {
      "text/plain": [
       "ImportanceSalaire\n",
       "Non Eleve    1298\n",
       "Eleve         172\n",
       "Name: count, dtype: int64"
      ]
     },
     "execution_count": 113,
     "metadata": {},
     "output_type": "execute_result"
    }
   ],
   "source": [
    "#Proportions des modalités\n",
    "data.ImportanceSalaire.value_counts()"
   ]
  },
  {
   "cell_type": "markdown",
   "id": "709a3242-4d36-4c6f-9863-8c4a9dd6b65a",
   "metadata": {},
   "source": [
    "Un employé est considéré comme ayant beaucoup de responsabilités s'il a un niveau de travail élevé (>= 3)."
   ]
  },
  {
   "cell_type": "code",
   "execution_count": 114,
   "id": "37399a25-49e0-444d-9c17-07ff1ec507a5",
   "metadata": {},
   "outputs": [
    {
     "data": {
      "text/plain": [
       "array(['Pas Beaucoup', 'Beaucoup'], dtype=object)"
      ]
     },
     "execution_count": 114,
     "metadata": {},
     "output_type": "execute_result"
    }
   ],
   "source": [
    "#Création d'une variable Responsabilite grace au boolean indexing\n",
    "##Creation de la variable Responsabilite\n",
    "data[\"Responsabilite\"] = \"Pas Beaucoup\"\n",
    "##Boolean indexing\n",
    "masque = data['JobLevel'] >= 3\n",
    "data.loc[ masque , 'Responsabilite'] = data.loc[masque , 'Responsabilite'].replace(\"Pas Beaucoup\" , 'Beaucoup')\n",
    "data.Responsabilite.unique()"
   ]
  },
  {
   "cell_type": "code",
   "execution_count": 115,
   "id": "b31cd358-bcde-4907-a315-29ec1c454c90",
   "metadata": {},
   "outputs": [
    {
     "data": {
      "text/plain": [
       "Responsabilite\n",
       "Pas Beaucoup    1077\n",
       "Beaucoup         393\n",
       "Name: count, dtype: int64"
      ]
     },
     "execution_count": 115,
     "metadata": {},
     "output_type": "execute_result"
    }
   ],
   "source": [
    "#Proportion des modalités\n",
    "data.Responsabilite.value_counts()"
   ]
  },
  {
   "cell_type": "code",
   "execution_count": 116,
   "id": "06b12295-099c-403e-96ed-ac4fed6aa5ca",
   "metadata": {},
   "outputs": [],
   "source": [
    "#Création du masque de vérification de l'hypothèse 3\n",
    "mask = (data['Loyaute'] == 'Loyal') & (data['ImportanceSalaire'] == 'Eleve') & (data['Responsabilite'] == 'Beaucoup')"
   ]
  },
  {
   "cell_type": "code",
   "execution_count": 117,
   "id": "d9309e85-4242-42f9-8440-96223f4afd84",
   "metadata": {},
   "outputs": [
    {
     "data": {
      "text/plain": [
       "array(['Non', 'Oui'], dtype=object)"
      ]
     },
     "execution_count": 117,
     "metadata": {},
     "output_type": "execute_result"
    }
   ],
   "source": [
    "#Création d'une variable BestEmployee grace au boolean indexing\n",
    "##Creation de la variable BestEmployee\n",
    "data[\"BestEmployee\"] = \"Non\"\n",
    "##Boolean indexing\n",
    "data.loc[ mask , 'BestEmployee'] = data.loc[mask , 'BestEmployee'].replace(\"Non\" , 'Oui')\n",
    "data.BestEmployee.unique()"
   ]
  },
  {
   "cell_type": "code",
   "execution_count": 118,
   "id": "64339993-0c41-4b00-b450-fc612bf156c0",
   "metadata": {},
   "outputs": [
    {
     "data": {
      "image/png": "[encoded data removed]",
      "text/plain": [
       "<Figure size 640x480 with 1 Axes>"
      ]
     },
     "metadata": {},
     "output_type": "display_data"
    }
   ],
   "source": [
    "#Visualisation \n",
    "sns.countplot(data = data , x = 'BestEmployee' , hue = 'Attrition');"
   ]
  },
  {
   "cell_type": "code",
   "execution_count": 119,
   "id": "e6f73638-d0f9-4eb7-903f-344544bfa3c8",
   "metadata": {},
   "outputs": [
    {
     "data": {
      "text/html": [
       "<div>\n",
       "<style scoped>\n",
       "    .dataframe tbody tr th:only-of-type {\n",
       "        vertical-align: middle;\n",
       "    }\n",
       "\n",
       "    .dataframe tbody tr th {\n",
       "        vertical-align: top;\n",
       "    }\n",
       "\n",
       "    .dataframe thead th {\n",
       "        text-align: right;\n",
       "    }\n",
       "</style>\n",
       "<table border=\"1\" class=\"dataframe\">\n",
       "  <thead>\n",
       "    <tr style=\"text-align: right;\">\n",
       "      <th>Attrition</th>\n",
       "      <th>No</th>\n",
       "      <th>Yes</th>\n",
       "      <th>Total</th>\n",
       "    </tr>\n",
       "    <tr>\n",
       "      <th>BestEmployee</th>\n",
       "      <th></th>\n",
       "      <th></th>\n",
       "      <th></th>\n",
       "    </tr>\n",
       "  </thead>\n",
       "  <tbody>\n",
       "    <tr>\n",
       "      <th>Non</th>\n",
       "      <td>1219</td>\n",
       "      <td>236</td>\n",
       "      <td>1455</td>\n",
       "    </tr>\n",
       "    <tr>\n",
       "      <th>Oui</th>\n",
       "      <td>14</td>\n",
       "      <td>1</td>\n",
       "      <td>15</td>\n",
       "    </tr>\n",
       "    <tr>\n",
       "      <th>Total</th>\n",
       "      <td>1233</td>\n",
       "      <td>237</td>\n",
       "      <td>1470</td>\n",
       "    </tr>\n",
       "  </tbody>\n",
       "</table>\n",
       "</div>"
      ],
      "text/plain": [
       "Attrition       No  Yes  Total\n",
       "BestEmployee                  \n",
       "Non           1219  236   1455\n",
       "Oui             14    1     15\n",
       "Total         1233  237   1470"
      ]
     },
     "execution_count": 119,
     "metadata": {},
     "output_type": "execute_result"
    }
   ],
   "source": [
    "#tableau de contingence entre les variables Attrition et BestEmployee\n",
    "pd.crosstab(index = data.BestEmployee , columns = data.Attrition , \n",
    "            margins = True , margins_name = 'Total')#, normalize = 'index' )"
   ]
  },
  {
   "cell_type": "markdown",
   "id": "81a4222f-dfea-4b05-9dea-73b7af8dbb0e",
   "metadata": {
    "jp-MarkdownHeadingCollapsed": true
   },
   "source": [
    "## **Hypothèse 4 (Non vérifiée)**"
   ]
  },
  {
   "cell_type": "markdown",
   "id": "5e234730-8680-433d-b99d-da2712527512",
   "metadata": {},
   "source": [
    "**Hypothèse :** Les employés qui habitent loin de leur lieu de \n",
    "travail ont plus tendance à quitter l’entreprise."
   ]
  },
  {
   "cell_type": "code",
   "execution_count": 122,
   "id": "f4ccfc42-dd02-4249-a37d-cb64b3a20d44",
   "metadata": {},
   "outputs": [
    {
     "data": {
      "text/plain": [
       "count    1470.000000\n",
       "mean        9.192517\n",
       "std         8.106864\n",
       "min         1.000000\n",
       "25%         2.000000\n",
       "50%         7.000000\n",
       "75%        14.000000\n",
       "max        29.000000\n",
       "Name: DistanceFromHome, dtype: float64"
      ]
     },
     "execution_count": 122,
     "metadata": {},
     "output_type": "execute_result"
    }
   ],
   "source": [
    "#description\n",
    "data.DistanceFromHome.describe()"
   ]
  },
  {
   "cell_type": "code",
   "execution_count": 124,
   "id": "581b557f-937c-4971-a94c-367757f8ca95",
   "metadata": {},
   "outputs": [
    {
     "data": {
      "image/png": "[encoded data removed]",
      "text/plain": [
       "<Figure size 640x480 with 1 Axes>"
      ]
     },
     "metadata": {},
     "output_type": "display_data"
    }
   ],
   "source": [
    "#Vérification de valeurs abérrantes\n",
    "sns.boxplot(data = data , x = 'DistanceFromHome');"
   ]
  },
  {
   "cell_type": "markdown",
   "id": "730e84c5-945f-425c-8ee2-aabf5838ebec",
   "metadata": {},
   "source": [
    "Un employé est considéré comme habitant loin si la distance entre son domicile et le lieu de travail est supérieure à la distance moyenne. "
   ]
  },
  {
   "cell_type": "code",
   "execution_count": 125,
   "id": "204b6830-e9f5-4fd0-b3bc-5c306e3ba25f",
   "metadata": {},
   "outputs": [
    {
     "data": {
      "text/plain": [
       "9.19251700680272"
      ]
     },
     "execution_count": 125,
     "metadata": {},
     "output_type": "execute_result"
    }
   ],
   "source": [
    "#distance moyenne\n",
    "data.DistanceFromHome.mean()"
   ]
  },
  {
   "cell_type": "code",
   "execution_count": 131,
   "id": "983a83b2-ea8e-496f-8c82-e4a08453304b",
   "metadata": {},
   "outputs": [],
   "source": [
    "#Création d'une fonction estLoin qui retourne \"Loin\" si l'employé habite loin et 'Pas Loin' sinon.\n",
    "def estLoin(element):\n",
    "    if element >= 9.19251700680272 :\n",
    "        return 'Oui'\n",
    "    return 'Non'"
   ]
  },
  {
   "cell_type": "code",
   "execution_count": 132,
   "id": "eb5ba1fc-964e-4570-857c-4319503a8044",
   "metadata": {},
   "outputs": [
    {
     "data": {
      "text/plain": [
       "estLoin\n",
       "Non    940\n",
       "Oui    530\n",
       "Name: count, dtype: int64"
      ]
     },
     "execution_count": 132,
     "metadata": {},
     "output_type": "execute_result"
    }
   ],
   "source": [
    "#Creation d'une variable estLoin dans la base\n",
    "data['estLoin'] = data['DistanceFromHome'].map(estLoin)\n",
    "#apperçu \n",
    "data.estLoin.value_counts()"
   ]
  },
  {
   "cell_type": "code",
   "execution_count": 133,
   "id": "88373270-569a-4d72-b761-7540c7cae757",
   "metadata": {},
   "outputs": [
    {
     "data": {
      "image/png": "[encoded data removed]",
      "text/plain": [
       "<Figure size 640x480 with 1 Axes>"
      ]
     },
     "metadata": {},
     "output_type": "display_data"
    }
   ],
   "source": [
    "#Visualisation\n",
    "sns.countplot(data = data , x = 'estLoin' , hue = 'Attrition'); "
   ]
  },
  {
   "cell_type": "code",
   "execution_count": 134,
   "id": "3c4e2a1a-e0de-46d9-874c-e609ff49ecb2",
   "metadata": {},
   "outputs": [
    {
     "data": {
      "text/html": [
       "<div>\n",
       "<style scoped>\n",
       "    .dataframe tbody tr th:only-of-type {\n",
       "        vertical-align: middle;\n",
       "    }\n",
       "\n",
       "    .dataframe tbody tr th {\n",
       "        vertical-align: top;\n",
       "    }\n",
       "\n",
       "    .dataframe thead th {\n",
       "        text-align: right;\n",
       "    }\n",
       "</style>\n",
       "<table border=\"1\" class=\"dataframe\">\n",
       "  <thead>\n",
       "    <tr style=\"text-align: right;\">\n",
       "      <th>Attrition</th>\n",
       "      <th>No</th>\n",
       "      <th>Yes</th>\n",
       "      <th>Total</th>\n",
       "    </tr>\n",
       "    <tr>\n",
       "      <th>estLoin</th>\n",
       "      <th></th>\n",
       "      <th></th>\n",
       "      <th></th>\n",
       "    </tr>\n",
       "  </thead>\n",
       "  <tbody>\n",
       "    <tr>\n",
       "      <th>Non</th>\n",
       "      <td>807</td>\n",
       "      <td>133</td>\n",
       "      <td>940</td>\n",
       "    </tr>\n",
       "    <tr>\n",
       "      <th>Oui</th>\n",
       "      <td>426</td>\n",
       "      <td>104</td>\n",
       "      <td>530</td>\n",
       "    </tr>\n",
       "    <tr>\n",
       "      <th>Total</th>\n",
       "      <td>1233</td>\n",
       "      <td>237</td>\n",
       "      <td>1470</td>\n",
       "    </tr>\n",
       "  </tbody>\n",
       "</table>\n",
       "</div>"
      ],
      "text/plain": [
       "Attrition    No  Yes  Total\n",
       "estLoin                    \n",
       "Non         807  133    940\n",
       "Oui         426  104    530\n",
       "Total      1233  237   1470"
      ]
     },
     "execution_count": 134,
     "metadata": {},
     "output_type": "execute_result"
    }
   ],
   "source": [
    "#tableau de contingence entre les variables Attrition et estLoin\n",
    "pd.crosstab(index = data.estLoin , columns = data.Attrition , \n",
    "            margins = True , margins_name = 'Total')#, normalize = 'index' )"
   ]
  },
  {
   "cell_type": "markdown",
   "id": "ff1cbeda-4c39-4512-a6cc-2b5c7897c6fa",
   "metadata": {
    "jp-MarkdownHeadingCollapsed": true
   },
   "source": [
    "## **Hypothèse 5 (Non vérifiée)**"
   ]
  },
  {
   "cell_type": "markdown",
   "id": "d1ac27de-980e-435b-a37f-a464cbc60251",
   "metadata": {},
   "source": [
    "**Hypothèse :** Les employés qui font fréquemment des voyages\n",
    "d’affaire présentent une proportion plus élevée de départs."
   ]
  },
  {
   "cell_type": "code",
   "execution_count": 137,
   "id": "c94bc68a-74e5-4b51-8b12-6bf99dc03b4c",
   "metadata": {},
   "outputs": [
    {
     "data": {
      "image/png": "[encoded data removed]",
      "text/plain": [
       "<Figure size 640x480 with 1 Axes>"
      ]
     },
     "metadata": {},
     "output_type": "display_data"
    }
   ],
   "source": [
    "#Visualisation \n",
    "sns.countplot(data = data , x = 'BusinessTravel', hue = 'Attrition');"
   ]
  },
  {
   "cell_type": "markdown",
   "id": "332ce104-1568-40c2-8695-55903fc9f0e7",
   "metadata": {
    "jp-MarkdownHeadingCollapsed": true
   },
   "source": [
    "## **Hypothèse 6 (Vérifiée)**"
   ]
  },
  {
   "cell_type": "markdown",
   "id": "a4cde3c3-7718-4a5c-97c2-84a3a79723e6",
   "metadata": {},
   "source": [
    "**Hypothèse :** Les employés qui font des d’heures supplémentaires\n",
    "sont plus nombreux à quitter l’entreprise comparé à ceux qui n’en\n",
    "font pas."
   ]
  },
  {
   "cell_type": "code",
   "execution_count": 140,
   "id": "6b199dc9-93ca-4387-a144-5758068eb882",
   "metadata": {},
   "outputs": [
    {
     "data": {
      "image/png": "[encoded data removed]",
      "text/plain": [
       "<Figure size 640x480 with 1 Axes>"
      ]
     },
     "metadata": {},
     "output_type": "display_data"
    }
   ],
   "source": [
    "#visualisation \n",
    "sns.countplot(data = data , x = 'OverTime' , hue ='Attrition' );"
   ]
  },
  {
   "cell_type": "code",
   "execution_count": 143,
   "id": "a9628da0-f433-48b7-a15a-797b1f733b14",
   "metadata": {},
   "outputs": [
    {
     "data": {
      "text/html": [
       "<div>\n",
       "<style scoped>\n",
       "    .dataframe tbody tr th:only-of-type {\n",
       "        vertical-align: middle;\n",
       "    }\n",
       "\n",
       "    .dataframe tbody tr th {\n",
       "        vertical-align: top;\n",
       "    }\n",
       "\n",
       "    .dataframe thead th {\n",
       "        text-align: right;\n",
       "    }\n",
       "</style>\n",
       "<table border=\"1\" class=\"dataframe\">\n",
       "  <thead>\n",
       "    <tr style=\"text-align: right;\">\n",
       "      <th>Attrition</th>\n",
       "      <th>No</th>\n",
       "      <th>Yes</th>\n",
       "    </tr>\n",
       "    <tr>\n",
       "      <th>OverTime</th>\n",
       "      <th></th>\n",
       "      <th></th>\n",
       "    </tr>\n",
       "  </thead>\n",
       "  <tbody>\n",
       "    <tr>\n",
       "      <th>No</th>\n",
       "      <td>89.563567</td>\n",
       "      <td>10.436433</td>\n",
       "    </tr>\n",
       "    <tr>\n",
       "      <th>Yes</th>\n",
       "      <td>69.471154</td>\n",
       "      <td>30.528846</td>\n",
       "    </tr>\n",
       "    <tr>\n",
       "      <th>Total</th>\n",
       "      <td>83.877551</td>\n",
       "      <td>16.122449</td>\n",
       "    </tr>\n",
       "  </tbody>\n",
       "</table>\n",
       "</div>"
      ],
      "text/plain": [
       "Attrition         No        Yes\n",
       "OverTime                       \n",
       "No         89.563567  10.436433\n",
       "Yes        69.471154  30.528846\n",
       "Total      83.877551  16.122449"
      ]
     },
     "execution_count": 143,
     "metadata": {},
     "output_type": "execute_result"
    }
   ],
   "source": [
    "#tableau de contingence entre les variables Attrition et OverTime\n",
    "pd.crosstab(index = data.OverTime , columns = data.Attrition , \n",
    "            margins = True , margins_name = 'Total', normalize = 'index' )*100"
   ]
  },
  {
   "cell_type": "markdown",
   "id": "679bf0e9-f1e5-4ef1-93d0-7961f89928e8",
   "metadata": {
    "jp-MarkdownHeadingCollapsed": true
   },
   "source": [
    "## **Hypothèse 7 (vérifiée)**"
   ]
  },
  {
   "cell_type": "markdown",
   "id": "566df3b9-1b10-40f4-bc70-e6467d55c7cc",
   "metadata": {},
   "source": [
    "**Hypothèse :** Les employés qui travaillent comme « représentant\n",
    "commercial » affichent un pourcentage important de départs."
   ]
  },
  {
   "cell_type": "code",
   "execution_count": 147,
   "id": "ec5c14a7-37ab-4fa9-a7b5-592d58064b9d",
   "metadata": {},
   "outputs": [
    {
     "data": {
      "image/png": "[encoded data removed]",
      "text/plain": [
       "<Figure size 640x480 with 1 Axes>"
      ]
     },
     "metadata": {},
     "output_type": "display_data"
    }
   ],
   "source": [
    "#visualisation \n",
    "sns.countplot(data = data[data['JobRole'] == 'Sales Representative'] , y = 'JobRole' , hue = 'Attrition');"
   ]
  },
  {
   "cell_type": "code",
   "execution_count": 152,
   "id": "19688abb-e864-4075-b383-14c57828229a",
   "metadata": {},
   "outputs": [
    {
     "data": {
      "text/html": [
       "<div>\n",
       "<style scoped>\n",
       "    .dataframe tbody tr th:only-of-type {\n",
       "        vertical-align: middle;\n",
       "    }\n",
       "\n",
       "    .dataframe tbody tr th {\n",
       "        vertical-align: top;\n",
       "    }\n",
       "\n",
       "    .dataframe thead th {\n",
       "        text-align: right;\n",
       "    }\n",
       "</style>\n",
       "<table border=\"1\" class=\"dataframe\">\n",
       "  <thead>\n",
       "    <tr style=\"text-align: right;\">\n",
       "      <th>Attrition</th>\n",
       "      <th>No</th>\n",
       "      <th>Yes</th>\n",
       "    </tr>\n",
       "    <tr>\n",
       "      <th>JobRole</th>\n",
       "      <th></th>\n",
       "      <th></th>\n",
       "    </tr>\n",
       "  </thead>\n",
       "  <tbody>\n",
       "    <tr>\n",
       "      <th>Healthcare Representative</th>\n",
       "      <td>93.129771</td>\n",
       "      <td>6.870229</td>\n",
       "    </tr>\n",
       "    <tr>\n",
       "      <th>Human Resources</th>\n",
       "      <td>76.923077</td>\n",
       "      <td>23.076923</td>\n",
       "    </tr>\n",
       "    <tr>\n",
       "      <th>Laboratory Technician</th>\n",
       "      <td>76.061776</td>\n",
       "      <td>23.938224</td>\n",
       "    </tr>\n",
       "    <tr>\n",
       "      <th>Manager</th>\n",
       "      <td>95.098039</td>\n",
       "      <td>4.901961</td>\n",
       "    </tr>\n",
       "    <tr>\n",
       "      <th>Manufacturing Director</th>\n",
       "      <td>93.103448</td>\n",
       "      <td>6.896552</td>\n",
       "    </tr>\n",
       "    <tr>\n",
       "      <th>Research Director</th>\n",
       "      <td>97.500000</td>\n",
       "      <td>2.500000</td>\n",
       "    </tr>\n",
       "    <tr>\n",
       "      <th>Research Scientist</th>\n",
       "      <td>83.904110</td>\n",
       "      <td>16.095890</td>\n",
       "    </tr>\n",
       "    <tr>\n",
       "      <th>Sales Executive</th>\n",
       "      <td>82.515337</td>\n",
       "      <td>17.484663</td>\n",
       "    </tr>\n",
       "    <tr>\n",
       "      <th>Sales Representative</th>\n",
       "      <td>60.240964</td>\n",
       "      <td>39.759036</td>\n",
       "    </tr>\n",
       "    <tr>\n",
       "      <th>Total</th>\n",
       "      <td>83.877551</td>\n",
       "      <td>16.122449</td>\n",
       "    </tr>\n",
       "  </tbody>\n",
       "</table>\n",
       "</div>"
      ],
      "text/plain": [
       "Attrition                         No        Yes\n",
       "JobRole                                        \n",
       "Healthcare Representative  93.129771   6.870229\n",
       "Human Resources            76.923077  23.076923\n",
       "Laboratory Technician      76.061776  23.938224\n",
       "Manager                    95.098039   4.901961\n",
       "Manufacturing Director     93.103448   6.896552\n",
       "Research Director          97.500000   2.500000\n",
       "Research Scientist         83.904110  16.095890\n",
       "Sales Executive            82.515337  17.484663\n",
       "Sales Representative       60.240964  39.759036\n",
       "Total                      83.877551  16.122449"
      ]
     },
     "execution_count": 152,
     "metadata": {},
     "output_type": "execute_result"
    }
   ],
   "source": [
    "#tableau de contingence entre les variables Attrition et OverTime\n",
    "pd.crosstab(index = data.JobRole , columns = data.Attrition , \n",
    "            margins = True , margins_name = 'Total', normalize = 'index' )*100"
   ]
  },
  {
   "cell_type": "markdown",
   "id": "64351133-8f86-48db-9a0b-4be2524ea6c8",
   "metadata": {
    "jp-MarkdownHeadingCollapsed": true
   },
   "source": [
    "## **Hypothèse 8 (Non vérifiée)**"
   ]
  },
  {
   "cell_type": "markdown",
   "id": "2bd61a8d-a59c-4250-843e-e397a9282c78",
   "metadata": {},
   "source": [
    "**Hypothèse :** Les employés qui ont déjà travaillé dans plusieurs\n",
    "entreprises, auparavant, représentent la plus grande proportion de\n",
    "départs."
   ]
  },
  {
   "cell_type": "code",
   "execution_count": 153,
   "id": "c75c449d-57b8-44ea-bec8-45b09c9d3b54",
   "metadata": {},
   "outputs": [],
   "source": [
    "#définition d'une fonction ontTDPE (ont travaillé dans plusieurs entreprises) qui retourne 'Oui' si l'employé a \n",
    "#travaillé dans plusieurs (au moins 2) entreprises et 'Non' sinon. \n",
    "def ontTDPE(element):\n",
    "    if element >= 2 :\n",
    "        return 'Oui'\n",
    "    return 'Non'"
   ]
  },
  {
   "cell_type": "code",
   "execution_count": 154,
   "id": "edf9dec9-a008-492f-bfe4-4f71173900be",
   "metadata": {},
   "outputs": [
    {
     "data": {
      "text/plain": [
       "MultipleEntreprises\n",
       "Oui    752\n",
       "Non    718\n",
       "Name: count, dtype: int64"
      ]
     },
     "execution_count": 154,
     "metadata": {},
     "output_type": "execute_result"
    }
   ],
   "source": [
    "#creation de la variable ontTDPE \n",
    "data['MultipleEntreprises'] = data[\"NumCompaniesWorked\"].map(ontTDPE)\n",
    "#apperçu \n",
    "data.MultipleEntreprises.value_counts()"
   ]
  },
  {
   "cell_type": "code",
   "execution_count": 155,
   "id": "243018ff-76d6-446a-94f7-6bb14e2806ae",
   "metadata": {},
   "outputs": [
    {
     "data": {
      "image/png": "[encoded data removed]",
      "text/plain": [
       "<Figure size 640x480 with 1 Axes>"
      ]
     },
     "metadata": {},
     "output_type": "display_data"
    }
   ],
   "source": [
    "#visualisation \n",
    "sns.countplot(data = data , x = 'MultipleEntreprises' , hue = 'Attrition');"
   ]
  },
  {
   "cell_type": "code",
   "execution_count": 160,
   "id": "444795ec-50db-409d-bd84-6a24133e0583",
   "metadata": {},
   "outputs": [
    {
     "data": {
      "text/html": [
       "<div>\n",
       "<style scoped>\n",
       "    .dataframe tbody tr th:only-of-type {\n",
       "        vertical-align: middle;\n",
       "    }\n",
       "\n",
       "    .dataframe tbody tr th {\n",
       "        vertical-align: top;\n",
       "    }\n",
       "\n",
       "    .dataframe thead th {\n",
       "        text-align: right;\n",
       "    }\n",
       "</style>\n",
       "<table border=\"1\" class=\"dataframe\">\n",
       "  <thead>\n",
       "    <tr style=\"text-align: right;\">\n",
       "      <th>Attrition</th>\n",
       "      <th>No</th>\n",
       "      <th>Yes</th>\n",
       "      <th>Total</th>\n",
       "    </tr>\n",
       "    <tr>\n",
       "      <th>MultipleEntreprises</th>\n",
       "      <th></th>\n",
       "      <th></th>\n",
       "      <th></th>\n",
       "    </tr>\n",
       "  </thead>\n",
       "  <tbody>\n",
       "    <tr>\n",
       "      <th>Non</th>\n",
       "      <td>48.418491</td>\n",
       "      <td>51.054852</td>\n",
       "      <td>48.843537</td>\n",
       "    </tr>\n",
       "    <tr>\n",
       "      <th>Oui</th>\n",
       "      <td>51.581509</td>\n",
       "      <td>48.945148</td>\n",
       "      <td>51.156463</td>\n",
       "    </tr>\n",
       "  </tbody>\n",
       "</table>\n",
       "</div>"
      ],
      "text/plain": [
       "Attrition                   No        Yes      Total\n",
       "MultipleEntreprises                                 \n",
       "Non                  48.418491  51.054852  48.843537\n",
       "Oui                  51.581509  48.945148  51.156463"
      ]
     },
     "execution_count": 160,
     "metadata": {},
     "output_type": "execute_result"
    }
   ],
   "source": [
    "#tableau de contingence entre les variables Attrition et MultipleEntreprises\n",
    "pd.crosstab(index = data.MultipleEntreprises , columns = data.Attrition , \n",
    "            margins = True , margins_name = 'Total', normalize = 'columns' )*100"
   ]
  },
  {
   "cell_type": "code",
   "execution_count": null,
   "id": "3d8f24a5-144c-41a1-a4ae-abaa8686ab06",
   "metadata": {},
   "outputs": [],
   "source": []
  }
 ],
 "metadata": {
  "kernelspec": {
   "display_name": "Python 3 (ipykernel)",
   "language": "python",
   "name": "python3"
  },
  "language_info": {
   "codemirror_mode": {
    "name": "ipython",
    "version": 3
   },
   "file_extension": ".py",
   "mimetype": "text/x-python",
   "name": "python",
   "nbconvert_exporter": "python",
   "pygments_lexer": "ipython3",
   "version": "3.11.4"
  }
 },
 "nbformat": 4,
 "nbformat_minor": 5
}
